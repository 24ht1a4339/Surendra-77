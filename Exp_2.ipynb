{
  "nbformat": 4,
  "nbformat_minor": 0,
  "metadata": {
    "colab": {
      "provenance": [],
      "authorship_tag": "ABX9TyPFeBivGaUl/eipcMvtRgvK",
      "include_colab_link": true
    },
    "kernelspec": {
      "name": "python3",
      "display_name": "Python 3"
    },
    "language_info": {
      "name": "python"
    }
  },
  "cells": [
    {
      "cell_type": "markdown",
      "metadata": {
        "id": "view-in-github",
        "colab_type": "text"
      },
      "source": [
        "<a href=\"https://colab.research.google.com/github/24ht1a4339/Surendra-77/blob/main/Exp_2.ipynb\" target=\"_parent\"><img src=\"https://colab.research.google.com/assets/colab-badge.svg\" alt=\"Open In Colab\"/></a>"
      ]
    },
    {
      "cell_type": "markdown",
      "source": [
        "Define a functionwith multiple return values"
      ],
      "metadata": {
        "id": "Ah8xgXPUSZOW"
      }
    },
    {
      "cell_type": "code",
      "source": [
        "def name():\n",
        "  return \"john\",\"armin\"\n",
        "# print the tuple with the returned values\n",
        "print(name())\n",
        "#  get the individual items\n",
        "name_1,name_2=name()\n",
        "print(name_1,name_2)"
      ],
      "metadata": {
        "colab": {
          "base_uri": "https://localhost:8080/"
        },
        "id": "QwEmk3lGSkIg",
        "outputId": "0a8fb64b-f89d-4452-b179-b13a1fef54b9"
      },
      "execution_count": null,
      "outputs": [
        {
          "output_type": "stream",
          "name": "stdout",
          "text": [
            "('john', 'armin')\n",
            "john armin\n"
          ]
        }
      ]
    },
    {
      "cell_type": "markdown",
      "source": [
        "function using default arguments"
      ],
      "metadata": {
        "id": "mIWgxwBXTze2"
      }
    },
    {
      "cell_type": "code",
      "source": [
        "def student(firstname,lastname='marks',standard='fifth'):\n",
        "  print(firstname,lastname,'studies in',standard,'standard')\n",
        "# 1 keyword argument\n",
        "student(firstname='john')\n",
        "\n",
        "# 2 keyword arguments\n",
        "student(firstname='john',standard='seventh')\n",
        "\n",
        "# 2 keyword arguments\n",
        "student(lastname='Gates',firstname='john')"
      ],
      "metadata": {
        "colab": {
          "base_uri": "https://localhost:8080/"
        },
        "id": "pOUVsO1AT85k",
        "outputId": "317831b7-5683-4d65-91be-314dff1afe22"
      },
      "execution_count": null,
      "outputs": [
        {
          "output_type": "stream",
          "name": "stdout",
          "text": [
            "john marks studies in fifth standard\n",
            "john marks studies in seventh standard\n",
            "john Gates studies in fifth standard\n"
          ]
        }
      ]
    },
    {
      "cell_type": "markdown",
      "source": [
        "find the length of the  string without using any library functions"
      ],
      "metadata": {
        "id": "8rVpFQ28WDZ2"
      }
    },
    {
      "cell_type": "code",
      "source": [
        "string=input(\"Enter string\")\n",
        "count=0\n",
        "for i in string:\n",
        "  count=count+1\n",
        "  print(\"Length of the string is:\")\n",
        "  print(count)"
      ],
      "metadata": {
        "id": "LbpuuwMgWZ81",
        "colab": {
          "base_uri": "https://localhost:8080/"
        },
        "outputId": "23fe0ccf-bdde-4129-965d-d91f2ce64916"
      },
      "execution_count": null,
      "outputs": [
        {
          "output_type": "stream",
          "name": "stdout",
          "text": [
            "Enter stringhello\n",
            "Length of the string is:\n",
            "1\n",
            "Length of the string is:\n",
            "2\n",
            "Length of the string is:\n",
            "3\n",
            "Length of the string is:\n",
            "4\n",
            "Length of the string is:\n",
            "5\n"
          ]
        }
      ]
    },
    {
      "cell_type": "markdown",
      "source": [
        "to check if the sub tring is present in a given string or not"
      ],
      "metadata": {
        "id": "mau68CxNaiw1"
      }
    },
    {
      "cell_type": "code",
      "source": [
        "string_raw=input(\"Enter string:\")\n",
        "sub_st=input(\"Enter word:\")\n",
        "if string_raw.find(sub_st) == -1:\n",
        "  print(\"substring is not found in string!\")\n",
        "else:\n",
        "  print(\"substring in string!\")"
      ],
      "metadata": {
        "colab": {
          "base_uri": "https://localhost:8080/"
        },
        "id": "8H1spTgFavGf",
        "outputId": "be9f144d-04df-4d4c-9a0c-5ed75cef3ed2"
      },
      "execution_count": null,
      "outputs": [
        {
          "output_type": "stream",
          "name": "stdout",
          "text": [
            "Enter string:hello world\n",
            "Enter word:world\n",
            "substring in string!\n"
          ]
        }
      ]
    },
    {
      "cell_type": "markdown",
      "source": [
        "addition"
      ],
      "metadata": {
        "id": "nbu7jrLRbyWy"
      }
    },
    {
      "cell_type": "code",
      "source": [
        "test_list1=[1,3,4,6,8]\n",
        "test_list2=[4,5,6,2,10]\n",
        "print(\"original list 1:\"+str(test_list1))\n",
        "print(\"original list 2:\"+str(test_list2))\n",
        "res_list=[]\n",
        "for i in range(0,len(test_list1)):\n",
        "  res_list.append(test_list1[i]+test_list2[i])\n",
        "  print(\"resultant list is:\"+ str(res_list))"
      ],
      "metadata": {
        "colab": {
          "base_uri": "https://localhost:8080/"
        },
        "id": "7dYz-W9Zb3fy",
        "outputId": "ded55566-7520-403c-ca9f-4acb7af44bc0"
      },
      "execution_count": null,
      "outputs": [
        {
          "output_type": "stream",
          "name": "stdout",
          "text": [
            "original list 1:[1, 3, 4, 6, 8]\n",
            "original list 2:[4, 5, 6, 2, 10]\n",
            "resultant list is:[5]\n",
            "resultant list is:[5, 8]\n",
            "resultant list is:[5, 8, 10]\n",
            "resultant list is:[5, 8, 10, 8]\n",
            "resultant list is:[5, 8, 10, 8, 18]\n"
          ]
        }
      ]
    },
    {
      "cell_type": "markdown",
      "source": [
        "insertion"
      ],
      "metadata": {
        "id": "VrtrKemDdawO"
      }
    },
    {
      "cell_type": "code",
      "source": [
        "score=[43,45,99,76]\n",
        "score.insert(2,45)\n",
        "print(score)"
      ],
      "metadata": {
        "colab": {
          "base_uri": "https://localhost:8080/"
        },
        "id": "lclh8fGrddAJ",
        "outputId": "cae1f508-ccf4-4892-aa4c-62edee67ad42"
      },
      "execution_count": null,
      "outputs": [
        {
          "output_type": "stream",
          "name": "stdout",
          "text": [
            "[43, 45, 45, 99, 76]\n"
          ]
        }
      ]
    },
    {
      "cell_type": "markdown",
      "source": [
        "slicing"
      ],
      "metadata": {
        "id": "iCKSkMNTdxe-"
      }
    },
    {
      "cell_type": "code",
      "source": [
        "list=[1,2,3,4,5,6,7,8,9]\n",
        "print(\"original list:\\n\",list)\n",
        "print(\"\\nsliced lists:\")\n",
        "print(list[3:9:2])\n",
        "print(list[::2])\n",
        "print(list[::])"
      ],
      "metadata": {
        "colab": {
          "base_uri": "https://localhost:8080/"
        },
        "id": "12D7mgvod0Wf",
        "outputId": "854b2f98-27d5-4813-dbd0-382ca707171f"
      },
      "execution_count": null,
      "outputs": [
        {
          "output_type": "stream",
          "name": "stdout",
          "text": [
            "original list:\n",
            " [1, 2, 3, 4, 5, 6, 7, 8, 9]\n",
            "\n",
            "sliced lists:\n",
            "[4, 6, 8]\n",
            "[1, 3, 5, 7, 9]\n",
            "[1, 2, 3, 4, 5, 6, 7, 8, 9]\n"
          ]
        }
      ]
    },
    {
      "cell_type": "markdown",
      "source": [],
      "metadata": {
        "id": "gxLu81B6fdCU"
      }
    },
    {
      "cell_type": "markdown",
      "source": [
        "write a program to perform any built in function by taking any list"
      ],
      "metadata": {
        "id": "SbITkFnhw70_"
      }
    },
    {
      "cell_type": "code",
      "source": [
        "var=-94\n",
        "print('absolute value of integer is:',abs(var))\n"
      ],
      "metadata": {
        "colab": {
          "base_uri": "https://localhost:8080/"
        },
        "id": "cLEXQfFxxLd3",
        "outputId": "8af39816-45a5-4df8-b3d8-433651798f95"
      },
      "execution_count": null,
      "outputs": [
        {
          "output_type": "stream",
          "name": "stdout",
          "text": [
            "absolute value of integer is: 94\n"
          ]
        }
      ]
    },
    {
      "cell_type": "markdown",
      "source": [
        "it turns false if the iterable oblect is emptythe all() functions turn true"
      ],
      "metadata": {
        "id": "t8tZlTrExqlm"
      }
    },
    {
      "cell_type": "code",
      "source": [
        "k=[1,3,4,6]\n",
        "k=[0,False]\n",
        "print(all(k))\n",
        "k=[1,3,7,0]\n",
        "print(all(k))\n",
        "k=[0,False,5]\n",
        "print(all(k))\n",
        "k=[]\n",
        "print(all(k))"
      ],
      "metadata": {
        "colab": {
          "base_uri": "https://localhost:8080/"
        },
        "id": "g4hi5j_YyZbf",
        "outputId": "4cd347a6-1a22-4912-a1b1-3010a461f6f5"
      },
      "execution_count": null,
      "outputs": [
        {
          "output_type": "stream",
          "name": "stdout",
          "text": [
            "False\n",
            "False\n",
            "False\n",
            "True\n"
          ]
        }
      ]
    },
    {
      "cell_type": "markdown",
      "source": [
        "sum() function is used to get the sum of the numbers of an iterable"
      ],
      "metadata": {
        "id": "MPkDNvXxzfqe"
      }
    },
    {
      "cell_type": "code",
      "source": [
        "s=sum([1,2,4])\n",
        "print(s)\n",
        "s=sum([1,2,4],10)\n",
        "print(s)"
      ],
      "metadata": {
        "colab": {
          "base_uri": "https://localhost:8080/"
        },
        "id": "Hkxy8QO70DzF",
        "outputId": "00318d4c-9d12-4da6-e8ff-5b00881b3aab"
      },
      "execution_count": null,
      "outputs": [
        {
          "output_type": "stream",
          "name": "stdout",
          "text": [
            "7\n",
            "17\n"
          ]
        }
      ]
    },
    {
      "cell_type": "markdown",
      "source": [
        "it is an immutable version of the bytearray() function"
      ],
      "metadata": {
        "id": "6egGUonP0Vr1"
      }
    },
    {
      "cell_type": "code",
      "source": [
        "string_val = \"hello world\"\n",
        "array = bytes(string_val, 'utf-8')\n",
        "print(array)"
      ],
      "metadata": {
        "colab": {
          "base_uri": "https://localhost:8080/"
        },
        "id": "arm0ZfJM0j79",
        "outputId": "18596c3a-4451-4176-a964-d104bfed65a1"
      },
      "execution_count": null,
      "outputs": [
        {
          "output_type": "stream",
          "name": "stdout",
          "text": [
            "b'hello world'\n"
          ]
        }
      ]
    }
  ]
}