{
  "nbformat": 4,
  "nbformat_minor": 0,
  "metadata": {
    "colab": {
      "provenance": [],
      "authorship_tag": "ABX9TyN7s/wIfCJLFVDFvxeZKcmx",
      "include_colab_link": true
    },
    "kernelspec": {
      "name": "python3",
      "display_name": "Python 3"
    },
    "language_info": {
      "name": "python"
    }
  },
  "cells": [
    {
      "cell_type": "markdown",
      "metadata": {
        "id": "view-in-github",
        "colab_type": "text"
      },
      "source": [
        "<a href=\"https://colab.research.google.com/github/24ht1a4339/Surendra-77/blob/main/exp1.ipynb\" target=\"_parent\"><img src=\"https://colab.research.google.com/assets/colab-badge.svg\" alt=\"Open In Colab\"/></a>"
      ]
    },
    {
      "cell_type": "markdown",
      "source": [],
      "metadata": {
        "id": "ccwGVH1dkWr3"
      }
    },
    {
      "cell_type": "code",
      "execution_count": null,
      "metadata": {
        "id": "-aKYk0C5kISz"
      },
      "outputs": [],
      "source": [
        "addition of two numbers"
      ]
    },
    {
      "cell_type": "code",
      "source": [
        "a=10\n",
        "b=15\n",
        "c=a+b\n",
        "print(\"addition is\",c)"
      ],
      "metadata": {
        "colab": {
          "base_uri": "https://localhost:8080/"
        },
        "id": "i4msIR4Olrlu",
        "outputId": "1b39d2b2-cbe8-42f4-c701-29183bb3b952"
      },
      "execution_count": null,
      "outputs": [
        {
          "output_type": "stream",
          "name": "stdout",
          "text": [
            "addition is 25\n"
          ]
        }
      ]
    },
    {
      "cell_type": "markdown",
      "source": [
        "largest of three numbers"
      ],
      "metadata": {
        "id": "sXWazUXmmjNW"
      }
    },
    {
      "cell_type": "code",
      "source": [
        "a=10\n",
        "b=14\n",
        "c=12\n",
        "if (a>=b) and (a>=c):\n",
        "  largest=a\n",
        "elif (b>=a) and (b>=c):\n",
        "    largest=b\n",
        "else:\n",
        "    largest=c\n",
        "print(\"the largest number is\", largest)"
      ],
      "metadata": {
        "colab": {
          "base_uri": "https://localhost:8080/"
        },
        "id": "1_NEcsY9mylF",
        "outputId": "97627439-c83e-402c-8598-9752b8f5352f"
      },
      "execution_count": null,
      "outputs": [
        {
          "output_type": "stream",
          "name": "stdout",
          "text": [
            "the largest number is 14\n"
          ]
        }
      ]
    },
    {
      "cell_type": "markdown",
      "source": [
        "display primes with in an interval"
      ],
      "metadata": {
        "id": "kr7hMvDtorit"
      }
    },
    {
      "cell_type": "code",
      "source": [
        "lower=900\n",
        "upper=1000\n",
        "print(\"prime numbers between\",lower,\"and\",upper,\"are:\")\n",
        "for num in range(lower,upper+1):\n",
        "  if num>1:\n",
        "    for i in range(2,num):\n",
        "      if(num%i)==0:\n",
        "          break\n",
        "    else:\n",
        "      print(num)"
      ],
      "metadata": {
        "colab": {
          "base_uri": "https://localhost:8080/"
        },
        "id": "5CjRUpx8pKl9",
        "outputId": "7a6f3da8-01a2-4309-a112-8f607f85a644"
      },
      "execution_count": null,
      "outputs": [
        {
          "output_type": "stream",
          "name": "stdout",
          "text": [
            "prime numbers between 900 and 1000 are:\n",
            "907\n",
            "911\n",
            "919\n",
            "929\n",
            "937\n",
            "941\n",
            "947\n",
            "953\n",
            "967\n",
            "971\n",
            "977\n",
            "983\n",
            "991\n",
            "997\n"
          ]
        }
      ]
    },
    {
      "cell_type": "markdown",
      "source": [
        "swapping of two numbers"
      ],
      "metadata": {
        "id": "6X_K_YybrCTM"
      }
    },
    {
      "cell_type": "code",
      "source": [
        "x=5\n",
        "y=7\n",
        "print(\"before swapping:\")\n",
        "print(\"value of x:\", x, \"and value of y:\", y)\n",
        "x,y=y,x\n",
        "print(\"after swapping:\")\n",
        "print(\"value of x:\", x, \"and value of y:\", y)"
      ],
      "metadata": {
        "colab": {
          "base_uri": "https://localhost:8080/"
        },
        "id": "LkFoGHRMrG7c",
        "outputId": "f70a55d1-32df-4aaf-c718-f11d0778dc7d"
      },
      "execution_count": null,
      "outputs": [
        {
          "output_type": "stream",
          "name": "stdout",
          "text": [
            "before swapping:\n",
            "value of x: 5 and value of y: 7\n",
            "after swapping:\n",
            "value of x: 7 and value of y: 5\n"
          ]
        }
      ]
    },
    {
      "cell_type": "markdown",
      "source": [
        "add and multiply complex numbers"
      ],
      "metadata": {
        "id": "ZJdh015tsCOU"
      }
    },
    {
      "cell_type": "code",
      "source": [
        "def mulcomplex(z1,z2):\n",
        "  return z1*z2\n",
        "\n",
        "z1=complex(2,3)\n",
        "z2=complex(1,2)\n",
        "print(\"multiplication is:\",mulcomplex(z1,z2))"
      ],
      "metadata": {
        "colab": {
          "base_uri": "https://localhost:8080/"
        },
        "id": "2bFs41rHsSID",
        "outputId": "f54c20b1-9b7c-4d2f-8193-d5f976281cb1"
      },
      "execution_count": null,
      "outputs": [
        {
          "output_type": "stream",
          "name": "stdout",
          "text": [
            "multiplication is: (-4+7j)\n"
          ]
        }
      ]
    },
    {
      "cell_type": "markdown",
      "source": [],
      "metadata": {
        "id": "FppJOmCLsCGc"
      }
    },
    {
      "cell_type": "markdown",
      "source": [
        "multiplication table of number"
      ],
      "metadata": {
        "id": "MZI-wWdBtEFU"
      }
    },
    {
      "cell_type": "code",
      "source": [
        "num=12\n",
        "for i in range(1,11):\n",
        "  print(num,'x',i,'=',num*i)\n"
      ],
      "metadata": {
        "colab": {
          "base_uri": "https://localhost:8080/"
        },
        "id": "SO_Qo1SbtM5s",
        "outputId": "7ad10ff9-abea-4239-c256-679861269d5f"
      },
      "execution_count": null,
      "outputs": [
        {
          "output_type": "stream",
          "name": "stdout",
          "text": [
            "12 x 1 = 12\n",
            "12 x 2 = 24\n",
            "12 x 3 = 36\n",
            "12 x 4 = 48\n",
            "12 x 5 = 60\n",
            "12 x 6 = 72\n",
            "12 x 7 = 84\n",
            "12 x 8 = 96\n",
            "12 x 9 = 108\n",
            "12 x 10 = 120\n"
          ]
        }
      ]
    }
  ]
}