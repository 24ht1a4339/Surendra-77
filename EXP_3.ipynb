{
  "nbformat": 4,
  "nbformat_minor": 0,
  "metadata": {
    "colab": {
      "provenance": [],
      "authorship_tag": "ABX9TyPfk8Km8+AvlJz+d81qI3C3",
      "include_colab_link": true
    },
    "kernelspec": {
      "name": "python3",
      "display_name": "Python 3"
    },
    "language_info": {
      "name": "python"
    }
  },
  "cells": [
    {
      "cell_type": "markdown",
      "metadata": {
        "id": "view-in-github",
        "colab_type": "text"
      },
      "source": [
        "<a href=\"https://colab.research.google.com/github/24ht1a4339/Surendra-77/blob/main/EXP_3.ipynb\" target=\"_parent\"><img src=\"https://colab.research.google.com/assets/colab-badge.svg\" alt=\"Open In Colab\"/></a>"
      ]
    },
    {
      "cell_type": "markdown",
      "source": [
        "write  a program to creat tuples (name, age, addres, college) atleast two persons"
      ],
      "metadata": {
        "id": "iy4k-4IXF5VO"
      }
    },
    {
      "cell_type": "code",
      "source": [
        "# Define tuples for two members\n",
        "member1 = (\"Alice\", 22, \"123 Maple Street\", \"University of Wonderland\")\n",
        "member2 = (\"Bob\", 25, \"456 Oak Avenue\", \"University of Nowhere\")\n",
        "# Concatenate the tuples\n",
        "concatenated_members = member1 + member2\n",
        "# Print the concatenated tuples\n",
        "print(\"Concatenated Tuples:\", concatenated_members)"
      ],
      "metadata": {
        "colab": {
          "base_uri": "https://localhost:8080/"
        },
        "id": "11XJziV2GK8k",
        "outputId": "2444380c-4e75-490a-b856-cc6c91b19aea"
      },
      "execution_count": null,
      "outputs": [
        {
          "output_type": "stream",
          "name": "stdout",
          "text": [
            "Concatenated Tuples: ('Alice', 22, '123 Maple Street', 'University of Wonderland', 'Bob', 25, '456 Oak Avenue', 'University of Nowhere')\n"
          ]
        }
      ]
    },
    {
      "cell_type": "markdown",
      "source": [
        "to count the no of vowels in a string (no control flow allowed)"
      ],
      "metadata": {
        "id": "HjVpZi1fGoks"
      }
    },
    {
      "cell_type": "code",
      "source": [
        "string=input('enter the strring')\n",
        "count=0\n",
        "string=string.lower()\n",
        "for i in string :\n",
        "  if i=='a' or i=='e' or i=='i' or i=='o' or i=='u' :\n",
        "    count+=1\n",
        "    if count==0 :\n",
        "      print('no vowels found')\n",
        "\n",
        "else:\n",
        "  print('vowels are :'+ str(count))"
      ],
      "metadata": {
        "colab": {
          "base_uri": "https://localhost:8080/"
        },
        "id": "RhlZ516IG0dT",
        "outputId": "039da4f5-e8a5-44e7-9ad6-135e735eac77"
      },
      "execution_count": null,
      "outputs": [
        {
          "output_type": "stream",
          "name": "stdout",
          "text": [
            "enter the strringprepinsta\n",
            "vowels are :3\n"
          ]
        }
      ]
    },
    {
      "cell_type": "markdown",
      "source": [
        "to check if the given is exist in a dictionary or not"
      ],
      "metadata": {
        "id": "DHDFZfYRIRKi"
      }
    },
    {
      "cell_type": "code",
      "source": [
        "defexample={'aman':110,'rajesh':440,'suresh':990}\n",
        "print(\"example 1\")\n",
        "try:\n",
        "  defexample[\"kamal\"]\n",
        "  print('the key exists in the dictionary')\n",
        "except KeyError:\n",
        "  print(\"the key doesn't exist in the dictionary\")\n",
        "\n",
        "print(\"Example 2\")\n",
        "try:\n",
        "  defexample[\"suresh\"]\n",
        "  print('the key exists in the dictionary')\n",
        "except KeyError:\n",
        "  print(\"the key doesn't exist in the dictionary\")"
      ],
      "metadata": {
        "colab": {
          "base_uri": "https://localhost:8080/"
        },
        "id": "Sa8Czuq0IZOz",
        "outputId": "1967a6ad-83fa-430a-ec4d-e0e1a3c53835"
      },
      "execution_count": null,
      "outputs": [
        {
          "output_type": "stream",
          "name": "stdout",
          "text": [
            "example 1\n",
            "the key doesn't exist in the dictionary\n",
            "Example 2\n",
            "the key exists in the dictionary\n"
          ]
        }
      ]
    },
    {
      "cell_type": "markdown",
      "source": [
        "to add a new key value pair to an existing dictionary"
      ],
      "metadata": {
        "id": "p-pM5QwBKdDe"
      }
    },
    {
      "cell_type": "code",
      "source": [
        "\n",
        "my_dict = {\n",
        "\"name\": \"Alice\",\n",
        "\"age\": 22,\n",
        "\"address\": \"123 Maple Street\"\n",
        "}\n",
        "# Print the original dictionary\n",
        "print(\"Original dictionary:\", my_dict)\n",
        "# Add a new key-value pair to the dictionary\n",
        "my_dict[\"college\"] = \"University of Wonderland\"\n",
        "# Print the updated dictionary\n",
        "print(\"Updated dictionary:\", my_dict)"
      ],
      "metadata": {
        "colab": {
          "base_uri": "https://localhost:8080/"
        },
        "id": "bGH0WnICKmnD",
        "outputId": "eec7b98a-bcb0-4862-e3c1-9a6d6ef32e20"
      },
      "execution_count": null,
      "outputs": [
        {
          "output_type": "stream",
          "name": "stdout",
          "text": [
            "Original dictionary: {'name': 'Alice', 'age': 22, 'address': '123 Maple Street'}\n",
            "Updated dictionary: {'name': 'Alice', 'age': 22, 'address': '123 Maple Street', 'college': 'University of Wonderland'}\n"
          ]
        }
      ]
    },
    {
      "cell_type": "markdown",
      "source": [
        "to sum all the items in a given dictionary"
      ],
      "metadata": {
        "id": "2uuk50FrLroj"
      }
    },
    {
      "cell_type": "code",
      "source": [
        "my_dict = {\n",
        "\"a\": 10,\n",
        "\"b\": 20,\n",
        "\"c\": 30,\n",
        "\"d\": 40\n",
        "}\n",
        "# Calculate the sum of all values in the dictionary\n",
        "total_sum = sum(my_dict.values())\n",
        "# Print the total sum\n",
        "print(\"Sum of all items in the dictionary:\", total_sum)"
      ],
      "metadata": {
        "colab": {
          "base_uri": "https://localhost:8080/"
        },
        "id": "IzB0Us3rL0Sq",
        "outputId": "45c78730-6620-46a3-a0af-6e2e98aabd8f"
      },
      "execution_count": null,
      "outputs": [
        {
          "output_type": "stream",
          "name": "stdout",
          "text": [
            "Sum of all items in the dictionary: 100\n"
          ]
        }
      ]
    }
  ]
}